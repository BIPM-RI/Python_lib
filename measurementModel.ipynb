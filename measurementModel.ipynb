{
  "nbformat": 4,
  "nbformat_minor": 0,
  "metadata": {
    "colab": {
      "name": "measurementModel",
      "provenance": [],
      "collapsed_sections": [],
      "authorship_tag": "ABX9TyPyhTajy7/3UtDsGjo167DY",
      "include_colab_link": true
    },
    "kernelspec": {
      "name": "python3",
      "display_name": "Python 3"
    },
    "language_info": {
      "name": "python"
    }
  },
  "cells": [
    {
      "cell_type": "markdown",
      "metadata": {
        "id": "view-in-github",
        "colab_type": "text"
      },
      "source": [
        "<a href=\"https://colab.research.google.com/github/RomainCoulon/Python_lib/blob/main/measurementModel.ipynb\" target=\"_parent\"><img src=\"https://colab.research.google.com/assets/colab-badge.svg\" alt=\"Open In Colab\"/></a>"
      ]
    },
    {
      "cell_type": "markdown",
      "source": [
        "## Measurement model"
      ],
      "metadata": {
        "id": "U06ZV2NvR4m-"
      }
    },
    {
      "cell_type": "markdown",
      "source": [
        "Import python modules"
      ],
      "metadata": {
        "id": "qHjleHHOUcpN"
      }
    },
    {
      "cell_type": "code",
      "source": [
        "import numpy as np\n",
        "import matplotlib.pyplot as plt\n",
        "import statsmodels.api as sm\n",
        "import statsmodels.graphics as sm_g"
      ],
      "metadata": {
        "id": "OXwzEqfgUBTm"
      },
      "execution_count": 681,
      "outputs": []
    },
    {
      "cell_type": "markdown",
      "source": [
        "The measurement is based on a state space model including:\n",
        "*   an expectation value *μ*\n",
        "*   a gaussian white noise *ϵ* of variance *R*\n",
        "*   a process noise (random gaussian walk) *δ* of variance *Q*\n",
        "*   a determinstic drift *d* of slope *S*\n",
        "*   a time step d*t*\n",
        "\n",
        "The state space function gives a time series made of measurement values y and its decomposition with:\n",
        "*   the true values of the process *x*\n",
        "*   the deterministic component *d*\n",
        "\n",
        "*t<sub>i<sub>* = *t<sub>i-1<sub>* + d*t*\n",
        "\n",
        "*d<sub>i<sub>* = *d<sub>i-1<sub>* + *S*\n",
        "\n",
        "*v<sub>i<sub>* = *v<sub>i-1<sub>* + *δ<sub>i<sub>*\n",
        "\n",
        "*x<sub>i<sub>* = *x<sub>i-1<sub>* + *d<sub>i<sub>* + *v<sub>i<sub>*\n",
        "\n",
        "*y<sub>i<sub>* = *x<sub>i<sub>* + *ϵ<sub>i<sub>*\n",
        "\n",
        "with,\n",
        "\n",
        "*d<sub>0<sub>* = *μ*\n",
        "\n",
        "*v<sub>0<sub>* = 0"
      ],
      "metadata": {
        "id": "QFt4754hSWnu"
      }
    },
    {
      "cell_type": "code",
      "source": [
        "def stateSpace(N,mu,R,Q,S,dt):\n",
        "    epsilon=np.random.normal(0,R,N)\n",
        "    delta=np.random.normal(0,Q,N)\n",
        "    t=np.arange(0,N,dt)\n",
        "    x=[]  # random noise\n",
        "    v=[]  # stochastic drift recurcive model\n",
        "    y=[]  # measuremeent\n",
        "    d=[]  # determinist drift recurvice model\n",
        "    for i in range(N):\n",
        "        if i==0:\n",
        "            v.append(0)\n",
        "            d.append(mu)\n",
        "            x.append(v[-1]+d[-1])\n",
        "            y.append(x[-1]+epsilon[i])\n",
        "        else:\n",
        "            v.append(v[-1]+delta[i])\n",
        "            d.append(d[-1]+S)\n",
        "            x.append(v[-1]+d[-1])\n",
        "            y.append(x[-1]+epsilon[i])\n",
        "    return y, x, d, t"
      ],
      "metadata": {
        "id": "Xt5EXhAlR_Wn"
      },
      "execution_count": 682,
      "outputs": []
    },
    {
      "cell_type": "markdown",
      "source": [
        "Set the parameters of the model."
      ],
      "metadata": {
        "id": "DzPV4IF3W0uq"
      }
    },
    {
      "cell_type": "code",
      "source": [
        "N=100\n",
        "mu=10\n",
        "R=1\n",
        "Q=0.2\n",
        "S=0\n",
        "dt=1"
      ],
      "metadata": {
        "id": "AT3zLXZ0W3rj"
      },
      "execution_count": 683,
      "outputs": []
    },
    {
      "cell_type": "markdown",
      "source": [
        "A measurement *y* is generated."
      ],
      "metadata": {
        "id": "COo7v_hbXbse"
      }
    },
    {
      "cell_type": "code",
      "source": [
        "y, x, d, t = stateSpace(N,mu,R,Q,S,dt)"
      ],
      "metadata": {
        "id": "mphAUfJjXoAE"
      },
      "execution_count": 684,
      "outputs": []
    },
    {
      "cell_type": "markdown",
      "source": [
        "A plot of the model is displayed. "
      ],
      "metadata": {
        "id": "yvo29s6QZhSY"
      }
    },
    {
      "cell_type": "code",
      "source": [
        "plt.figure(\"Plot measurement model\")\n",
        "plt.clf()\n",
        "plt.plot(t,y,'ok',label=r\"measurement\")\n",
        "plt.plot(t,x,'-r',label=r\"process noise\")\n",
        "plt.plot(t,d,'-g',label=r\"deterministic component\")\n",
        "plt.ylabel(r'value', fontsize=20)\n",
        "plt.xlabel(r'time', fontsize=20)\n",
        "plt.legend()\n",
        "plt.xticks(fontsize=14)\n",
        "plt.yticks(fontsize=14)"
      ],
      "metadata": {
        "colab": {
          "base_uri": "https://localhost:8080/",
          "height": 330
        },
        "id": "HTBcVax4Znne",
        "outputId": "b9e5ccd1-0afb-4c93-8000-6d358c773e68"
      },
      "execution_count": 685,
      "outputs": [
        {
          "output_type": "execute_result",
          "data": {
            "text/plain": [
              "(array([ 6.,  7.,  8.,  9., 10., 11., 12., 13., 14., 15.]),\n",
              " <a list of 10 Text major ticklabel objects>)"
            ]
          },
          "metadata": {},
          "execution_count": 685
        },
        {
          "output_type": "display_data",
          "data": {
            "text/plain": [
              "<Figure size 432x288 with 1 Axes>"
            ],
            "image/png": "[encoded data removed]"
          },
          "metadata": {
            "needs_background": "light"
          }
        }
      ]
    },
    {
      "cell_type": "markdown",
      "source": [
        "## Detection of autocorrelation"
      ],
      "metadata": {
        "id": "ZUdDQFpcl-dk"
      }
    },
    {
      "cell_type": "markdown",
      "source": [
        "To test a data set, uncomment the code below and grab your data in \n",
        "\n",
        "```\n",
        "y=[your data separated by comma]\n",
        "```\n",
        "otherwise the simulated data set will be used by default.\n",
        "."
      ],
      "metadata": {
        "id": "1TmgH8rbPI35"
      }
    },
    {
      "cell_type": "code",
      "source": [
        "# y=[9.477601391341329, 9.679311929470055, 9.229645011585864, 11.95776479349741, 11.267684970683579, 9.968267233560518, 9.542540604675345, 8.93084879175725]\n",
        "# N=len(y)\n",
        "# t=np.arange(0,N,dt)"
      ],
      "metadata": {
        "id": "5oTt0fGVNy8g"
      },
      "execution_count": 686,
      "outputs": []
    },
    {
      "cell_type": "markdown",
      "source": [
        "### Detection of autocorrelation using the Ljung-Box Q-Test."
      ],
      "metadata": {
        "id": "XH_NsBelo5Lx"
      }
    },
    {
      "cell_type": "code",
      "source": [
        "def LjungBoxQtest(y,q):\n",
        "  acf_result=sm.tsa.acf(y, nlags=N-1, qstat=True, fft=True)\n",
        "  LB_pvalue=acf_result[2]\n",
        "  if LB_pvalue[1]<1-q:\n",
        "    testLBQ=True\n",
        "  else:\n",
        "    testLBQ=False\n",
        "  return testLBQ\n"
      ],
      "metadata": {
        "id": "_swwm9UGG89z"
      },
      "execution_count": 687,
      "outputs": []
    },
    {
      "cell_type": "markdown",
      "source": [
        "Set the confidence level *q*<sub>LBQ</sub> setting the risk of false detection *α = 1-q*<sub>LBQ</sub>."
      ],
      "metadata": {
        "id": "MpXNlp5ipNQn"
      }
    },
    {
      "cell_type": "code",
      "source": [
        "q_LBQ=0.95"
      ],
      "metadata": {
        "id": "NibYYsFppYfu"
      },
      "execution_count": 688,
      "outputs": []
    },
    {
      "cell_type": "code",
      "source": [
        "testLBQ = LjungBoxQtest(y,q_LBQ)\n",
        "if testLBQ:\n",
        "  print(\"The hypothesis of non autocorrelation can be rejected with a confidence level \"+str(round(100*q_LBQ))+\"%\")\n",
        "else:\n",
        "  print(\"The hypothesis of non autocorrelation cannot be rejected with a confidence level \"+str(round(100*q_LBQ))+\"%\")\n",
        "\n",
        "fig = sm_g.tsaplots.plot_acf(y, lags=N-1, alpha =1-q_LBQ, fft=True)\n",
        "plt.title(\"Autocorrelation function\")\n",
        "plt.xlabel(r\"Lag time\", fontsize=20)\n",
        "plt.ylabel(r\"$ACF$\", fontsize=20)\n",
        "plt.show()"
      ],
      "metadata": {
        "colab": {
          "base_uri": "https://localhost:8080/",
          "height": 322
        },
        "id": "IIj8_bhRmGLq",
        "outputId": "31c3068c-e09f-4e13-a668-c1f955573c96"
      },
      "execution_count": 689,
      "outputs": [
        {
          "output_type": "stream",
          "name": "stdout",
          "text": [
            "The hypothesis of non autocorrelation cannot be rejected with a confidence level 95%\n"
          ]
        },
        {
          "output_type": "display_data",
          "data": {
            "text/plain": [
              "<Figure size 432x288 with 1 Axes>"
            ],
            "image/png": "[encoded data removed]"
          },
          "metadata": {
            "needs_background": "light"
          }
        }
      ]
    },
    {
      "cell_type": "markdown",
      "source": [
        "### Detection of autocorrelation using CuSum chart"
      ],
      "metadata": {
        "id": "5EdUpZWQvi4Z"
      }
    },
    {
      "cell_type": "code",
      "source": [
        "def cusumChartData(Val, *, delta=0.4, rate=1):\n",
        "    n=len(Val)\n",
        "    Rbar=np.mean(Val)\n",
        "    Sig=np.std(Val)\n",
        "    Cusum=np.empty(n)\n",
        "    Cusum[0]=0\n",
        "    for x in range(n):\n",
        "        A=Val[x]-Rbar\n",
        "        Cusum[x]=Cusum[x-1]+A\n",
        "    d=(2/delta**2)*np.log((1-0.050)/(0.050))\n",
        "    k=delta*Sig/2\n",
        "    Vmask1=np.empty(n)\n",
        "    Vmask2=np.empty(n)\n",
        "    for x in range(n):\n",
        "        Vmask1[x]=Cusum[n-1]-d*k-k*n+k*x\n",
        "        Vmask2[x]=Cusum[n-1]+d*k+k*n-k*x\n",
        "    CusumId=0\n",
        "    for i in range(n):\n",
        "        if Cusum[i]>Vmask2[i]:\n",
        "            CusumId=CusumId+1\n",
        "        if Cusum[i]<Vmask1[i]:\n",
        "            CusumId=CusumId+1\n",
        "    if CusumId>=rate: Test=True\n",
        "    else: Test=False\n",
        "    return Test, Cusum, Vmask1, Vmask2"
      ],
      "metadata": {
        "id": "JZt-aaXmvucu"
      },
      "execution_count": 690,
      "outputs": []
    },
    {
      "cell_type": "markdown",
      "source": [
        "Set the CuSum parameters *p*<sub>cusum</sub> and the number of points *n*<sub>cusum</sub> out of the Vmask to consider for detection. "
      ],
      "metadata": {
        "id": "4-QQYW5exL5e"
      }
    },
    {
      "cell_type": "code",
      "source": [
        "p_cusum=0.4\n",
        "n_cusum=1"
      ],
      "metadata": {
        "id": "nsAmXEB7yGmL"
      },
      "execution_count": 691,
      "outputs": []
    },
    {
      "cell_type": "markdown",
      "source": [
        "Run the CuSum chart analysis"
      ],
      "metadata": {
        "id": "EqPyR_7iyNGR"
      }
    },
    {
      "cell_type": "code",
      "source": [
        "testCuSum, CuSum, Vmask1, Vmask2 = cusumChartData(y, delta=p_cusum, rate=n_cusum)\n",
        "if testCuSum:\n",
        "  print(\"Autocorrelation has been detected by the CuSum chart analysis\")\n",
        "else:\n",
        "  print(\"Autocorrelation has not been detected by the CuSum chart analysis\")\n",
        "\n",
        "plt.figure(\"CuSum chart\")\n",
        "plt.clf()\n",
        "plt.plot(t,CuSum,'ok',label=r\"cummulative sum\")\n",
        "plt.plot(t,Vmask1,'-r',label=r\"Vmask\")\n",
        "plt.plot(t,Vmask2,'-r',label=r\"Vmask\")\n",
        "plt.ylabel(r'value', fontsize=20)\n",
        "plt.xlabel(r'time', fontsize=20)\n",
        "plt.legend()\n",
        "plt.xticks(fontsize=14)\n",
        "plt.yticks(fontsize=14)"
      ],
      "metadata": {
        "colab": {
          "base_uri": "https://localhost:8080/",
          "height": 344
        },
        "id": "uHScjWysyUpB",
        "outputId": "588b8508-7cd5-42f3-fe9c-69e37d28557a"
      },
      "execution_count": 692,
      "outputs": [
        {
          "output_type": "stream",
          "name": "stdout",
          "text": [
            "Autocorrelation has been detected by the CuSum chart analysis\n"
          ]
        },
        {
          "output_type": "execute_result",
          "data": {
            "text/plain": [
              "(array([-40., -30., -20., -10.,   0.,  10.,  20.,  30.,  40.]),\n",
              " <a list of 9 Text major ticklabel objects>)"
            ]
          },
          "metadata": {},
          "execution_count": 692
        },
        {
          "output_type": "display_data",
          "data": {
            "text/plain": [
              "<Figure size 432x288 with 1 Axes>"
            ],
            "image/png": "[encoded data removed]"
          },
          "metadata": {
            "needs_background": "light"
          }
        }
      ]
    },
    {
      "cell_type": "markdown",
      "source": [
        "### Detection of autocorrelation using EWMA chart"
      ],
      "metadata": {
        "id": "6i1xCKlZJIZ-"
      }
    },
    {
      "cell_type": "code",
      "source": [
        "def ewmaChartData(Val, *, lambdaWMA=0.4, rate=1):\n",
        "    lambdaWMA=2/len(Val)\n",
        "    Rbar=np.mean(Val)\n",
        "    Sig=np.std(Val)\n",
        "    valEMA=[]\n",
        "    LCL_EWMA=[]\n",
        "    UCL_EWMA=[]\n",
        "    for x, i in enumerate(Val):\n",
        "        deltaWMA=3*np.sqrt((lambdaWMA/(2-lambdaWMA))*Sig**2*(1-(1-lambdaWMA)**(2*(x+1))))\n",
        "        LCL_EWMA.append(Rbar-deltaWMA)\n",
        "        UCL_EWMA.append(Rbar+deltaWMA)\n",
        "        if x==0:\n",
        "            valEMA.append(Rbar)\n",
        "        else:\n",
        "            valEMA.append(lambdaWMA*i+(1-lambdaWMA)*valEMA[-1])\n",
        "    n=len(valEMA)\n",
        "    EwmaId=0\n",
        "    for i in range(n):\n",
        "        if valEMA[i]>UCL_EWMA[i]:\n",
        "            EwmaId=EwmaId+1\n",
        "        if valEMA[i]<LCL_EWMA[i]:\n",
        "            EwmaId=EwmaId+1\n",
        "    if EwmaId>=rate: Test=True\n",
        "    else: Test=False              \n",
        "    return Test, valEMA, LCL_EWMA, UCL_EWMA"
      ],
      "metadata": {
        "id": "nu_sHZJ9JSuL"
      },
      "execution_count": 693,
      "outputs": []
    },
    {
      "cell_type": "markdown",
      "source": [
        "Set the EWMA parameters *p*<sub>ewma</sub> and the number of points *n*<sub>ewma</sub> out of the control limits to consider for detection."
      ],
      "metadata": {
        "id": "5pzjRSfEJ_Ma"
      }
    },
    {
      "cell_type": "code",
      "source": [
        "p_ewma = 0.4\n",
        "n_ewma = 1"
      ],
      "metadata": {
        "id": "5evsX8liKWwk"
      },
      "execution_count": 694,
      "outputs": []
    },
    {
      "cell_type": "markdown",
      "source": [
        "Run the EWMA chart analysis."
      ],
      "metadata": {
        "id": "JuyEE9oDKfNA"
      }
    },
    {
      "cell_type": "code",
      "source": [
        "testEWMA, valEMA, LCL_EWMA, UCL_EWMA = ewmaChartData(y, lambdaWMA=p_ewma, rate=n_ewma)\n",
        "if testEWMA:\n",
        "  print(\"Autocorrelation has been detected by the EWMA chart analysis\")\n",
        "else:\n",
        "  print(\"Autocorrelation has not been detected by the EWMA chart analysis\")\n",
        "\n",
        "plt.figure(\"EWMA chart\")\n",
        "plt.clf()\n",
        "plt.plot(t,valEMA,'ok',label=r\"EWMA\")\n",
        "plt.plot(t,LCL_EWMA,'-r',label=r\"lower control limit\")\n",
        "plt.plot(t,UCL_EWMA,'-r',label=r\"upper control limit\")\n",
        "plt.ylabel(r'value', fontsize=20)\n",
        "plt.xlabel(r'time', fontsize=20)\n",
        "plt.legend()\n",
        "plt.xticks(fontsize=14)\n",
        "plt.yticks(fontsize=14)"
      ],
      "metadata": {
        "colab": {
          "base_uri": "https://localhost:8080/",
          "height": 344
        },
        "id": "qih2UWdhKiWl",
        "outputId": "62819476-0286-42a2-f74e-79e111c1015a"
      },
      "execution_count": 695,
      "outputs": [
        {
          "output_type": "stream",
          "name": "stdout",
          "text": [
            "Autocorrelation has not been detected by the EWMA chart analysis\n"
          ]
        },
        {
          "output_type": "execute_result",
          "data": {
            "text/plain": [
              "(array([10.2, 10.3, 10.4, 10.5, 10.6, 10.7, 10.8, 10.9, 11. ]),\n",
              " <a list of 9 Text major ticklabel objects>)"
            ]
          },
          "metadata": {},
          "execution_count": 695
        },
        {
          "output_type": "display_data",
          "data": {
            "text/plain": [
              "<Figure size 432x288 with 1 Axes>"
            ],
            "image/png": "[encoded data removed]"
          },
          "metadata": {
            "needs_background": "light"
          }
        }
      ]
    },
    {
      "cell_type": "markdown",
      "source": [
        "### Results"
      ],
      "metadata": {
        "id": "bWazWuXELT6t"
      }
    },
    {
      "cell_type": "code",
      "source": [
        "count=0\n",
        "print(\"Presence of autocorrelation detected by \")\n",
        "if testLBQ: print(\"Ljung-Box Q-Test \"); count+=1\n",
        "if testCuSum: print(\"CuSum chart \"); count+=1\n",
        "if testEWMA: print(\"EWMA chart \"); count+=1\n",
        "print(\"\\t*\"+str(count)+\"/3 tests.\")"
      ],
      "metadata": {
        "colab": {
          "base_uri": "https://localhost:8080/"
        },
        "id": "EuCnzYLaLTTT",
        "outputId": "c461b3df-3d87-48f8-e108-e815f5d68d2c"
      },
      "execution_count": 696,
      "outputs": [
        {
          "output_type": "stream",
          "name": "stdout",
          "text": [
            "Presence of autocorrelation detected by \n",
            "CuSum chart \n",
            "\t*1/3 tests.\n"
          ]
        }
      ]
    }
  ]
}